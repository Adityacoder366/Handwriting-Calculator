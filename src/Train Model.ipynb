{
 "cells": [
  {
   "cell_type": "markdown",
   "metadata": {},
   "source": [
    "# PREPARATION"
   ]
  },
  {
   "cell_type": "code",
   "execution_count": 1,
   "metadata": {},
   "outputs": [
    {
     "name": "stderr",
     "output_type": "stream",
     "text": [
      "Using TensorFlow backend.\n"
     ]
    }
   ],
   "source": [
    "import gzip, idx2numpy\n",
    "import numpy as np\n",
    "import pandas as pd\n",
    "import matplotlib.pyplot as plt\n",
    "import keras\n",
    "from keras.models import Sequential\n",
    "from keras.layers import Dense"
   ]
  },
  {
   "cell_type": "code",
   "execution_count": 2,
   "metadata": {},
   "outputs": [],
   "source": [
    "# FIX CONSTANT\n",
    "CLASS = 10\n",
    "THRESH = 100\n",
    "MAX_EPOCHS = 50\n",
    "N_SAMPLE_PLOT = 10"
   ]
  },
  {
   "cell_type": "markdown",
   "metadata": {},
   "source": [
    "# LOAD DATA"
   ]
  },
  {
   "cell_type": "code",
   "execution_count": 3,
   "metadata": {},
   "outputs": [
    {
     "name": "stdout",
     "output_type": "stream",
     "text": [
      "Train: (60000, 28, 28) (60000,)\n",
      "Test:  (10000, 28, 28) (10000,)\n"
     ]
    }
   ],
   "source": [
    "# LOAD TRAIN AND TEST DATA\n",
    "data = ['train-images-idx3-ubyte.gz', 'train-labels-idx1-ubyte.gz', 't10k-images-idx3-ubyte.gz', 't10k-labels-idx1-ubyte.gz']\n",
    "\n",
    "for idx, filename in enumerate(data):\n",
    "     with gzip.open('dataset/' + filename, 'rb') as f:\n",
    "        temp = f.read()\n",
    "        data[idx] = idx2numpy.convert_from_string(temp)\n",
    "\n",
    "[X_train, y_train_label, X_test, y_test_label] = data\n",
    "# print Train and Test data size\n",
    "print('Train:', X_train.shape, y_train_label.shape)\n",
    "print('Test: ', X_test.shape, y_test_label.shape)"
   ]
  },
  {
   "cell_type": "markdown",
   "metadata": {},
   "source": [
    "Each sample data is 28x28 pixel of handwritten image, convert to numpy array consist of integer between 0-255"
   ]
  },
  {
   "cell_type": "markdown",
   "metadata": {},
   "source": [
    "# PREPROCESSING"
   ]
  },
  {
   "cell_type": "code",
   "execution_count": 4,
   "metadata": {},
   "outputs": [],
   "source": [
    "def thresholding(x, thresh):\n",
    "    \"\"\"Masking image for simplify data.\n",
    "    Convert data to binary, each pixel greater or equal to threshold will convert as 1\n",
    "    \"\"\"\n",
    "    if x >= thresh:\n",
    "        temp = 1\n",
    "    else:\n",
    "        temp = 0\n",
    "    return temp\n",
    "thresholding_v = np.vectorize(thresholding)"
   ]
  },
  {
   "cell_type": "code",
   "execution_count": 5,
   "metadata": {},
   "outputs": [],
   "source": [
    "# Masking feature data\n",
    "X_train = thresholding_v(X_train, THRESH)\n",
    "X_test = thresholding_v(X_test, THRESH)\n",
    "\n",
    "# One hot encode label data\n",
    "y_train = np.eye(CLASS)[y_train_label]\n",
    "y_test = np.eye(CLASS)[y_test_label]"
   ]
  },
  {
   "cell_type": "code",
   "execution_count": 6,
   "metadata": {},
   "outputs": [
    {
     "data": {
      "image/png": "[encoded data removed]",
      "text/plain": [
       "<Figure size 1440x288 with 20 Axes>"
      ]
     },
     "metadata": {},
     "output_type": "display_data"
    }
   ],
   "source": [
    "# Plot some sample\n",
    "n = N_SAMPLE_PLOT\n",
    "fig, ax = plt.subplots(2, n, sharex=False, sharey=False, figsize=(n*2,4))\n",
    "for i in range(2):\n",
    "    for j in range(n):\n",
    "        ax[i,j].imshow(X_train[i*5 + j])\n",
    "        ax[i,j].set_title(y_train_label[i*5 + j])\n",
    "        ax[i,j].set_xticks([])\n",
    "        ax[i,j].set_yticks([])"
   ]
  },
  {
   "cell_type": "code",
   "execution_count": 7,
   "metadata": {},
   "outputs": [],
   "source": [
    "# Reshape each sample to 1 dimension\n",
    "X_train = X_train.reshape(60000, -1)\n",
    "X_test = X_test.reshape(10000, -1)"
   ]
  },
  {
   "cell_type": "code",
   "execution_count": 8,
   "metadata": {},
   "outputs": [
    {
     "name": "stdout",
     "output_type": "stream",
     "text": [
      "            X           y\n",
      "Train: (60000, 784) (60000,)\n",
      "Test:  (10000, 784) (10000,)\n"
     ]
    }
   ],
   "source": [
    "# print Train and Test data size\n",
    "print('            X           y')\n",
    "print('Train:', X_train.shape, y_train_label.shape)\n",
    "print('Test: ', X_test.shape, y_test_label.shape)"
   ]
  },
  {
   "cell_type": "markdown",
   "metadata": {},
   "source": [
    "# TRAIN MODEL"
   ]
  },
  {
   "cell_type": "code",
   "execution_count": 9,
   "metadata": {},
   "outputs": [
    {
     "name": "stdout",
     "output_type": "stream",
     "text": [
      "Model: \"sequential_1\"\n",
      "_________________________________________________________________\n",
      "Layer (type)                 Output Shape              Param #   \n",
      "=================================================================\n",
      "dense_1 (Dense)              (None, 20)                15700     \n",
      "_________________________________________________________________\n",
      "dense_2 (Dense)              (None, 20)                420       \n",
      "_________________________________________________________________\n",
      "dense_3 (Dense)              (None, 10)                210       \n",
      "=================================================================\n",
      "Total params: 16,330\n",
      "Trainable params: 16,330\n",
      "Non-trainable params: 0\n",
      "_________________________________________________________________\n"
     ]
    }
   ],
   "source": [
    "# CREATE MODEL \n",
    "model = Sequential()\n",
    "model.add(Dense(20, activation='relu', input_shape=(X_train.shape[1],)))\n",
    "model.add(Dense(20, activation='relu'))\n",
    "model.add(Dense(CLASS, activation='softmax'))\n",
    "model.compile(loss='categorical_crossentropy', optimizer='Adam', metrics=['accuracy'])\n",
    "model.summary()"
   ]
  },
  {
   "cell_type": "code",
   "execution_count": 10,
   "metadata": {},
   "outputs": [],
   "source": [
    "history = model.fit(X_train, y_train, epochs=MAX_EPOCHS, validation_data=(X_test, y_test), verbose=0)"
   ]
  },
  {
   "cell_type": "code",
   "execution_count": 11,
   "metadata": {},
   "outputs": [
    {
     "name": "stdout",
     "output_type": "stream",
     "text": [
      "60000/60000 [==============================] - 2s 37us/step\n",
      "train score:  99.18 %\n",
      "10000/10000 [==============================] - 0s 38us/step\n",
      "test score :  94.85 %\n"
     ]
    }
   ],
   "source": [
    "print (\"train score: \",round(model.evaluate(X_train, y_train)[1]*100, 2) , \"%\")\n",
    "print (\"test score : \",round(model.evaluate(X_test, y_test)[1]*100, 2) , \"%\")"
   ]
  },
  {
   "cell_type": "code",
   "execution_count": 12,
   "metadata": {},
   "outputs": [],
   "source": [
    "model.save('model.h5')"
   ]
  },
  {
   "cell_type": "code",
   "execution_count": 13,
   "metadata": {},
   "outputs": [
    {
     "data": {
      "text/plain": [
       "[<matplotlib.lines.Line2D at 0x2280137b2e8>]"
      ]
     },
     "execution_count": 13,
     "metadata": {},
     "output_type": "execute_result"
    },
    {
     "data": {
      "image/png": "[encoded data removed]",
      "text/plain": [
       "<Figure size 432x288 with 1 Axes>"
      ]
     },
     "metadata": {
      "needs_background": "light"
     },
     "output_type": "display_data"
    }
   ],
   "source": [
    "# Plot accuracy train vs test data\n",
    "plt.plot(history.history['accuracy'])\n",
    "plt.plot(history.history['val_accuracy'])"
   ]
  }
 ],
 "metadata": {
  "kernelspec": {
   "display_name": "Python 3",
   "language": "python",
   "name": "python3"
  },
  "language_info": {
   "codemirror_mode": {
    "name": "ipython",
    "version": 3
   },
   "file_extension": ".py",
   "mimetype": "text/x-python",
   "name": "python",
   "nbconvert_exporter": "python",
   "pygments_lexer": "ipython3",
   "version": "3.7.3"
  }
 },
 "nbformat": 4,
 "nbformat_minor": 2
}
